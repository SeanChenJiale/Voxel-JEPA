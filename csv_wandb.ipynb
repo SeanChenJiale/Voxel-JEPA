{
 "cells": [
  {
   "cell_type": "markdown",
   "metadata": {},
   "source": [
    "# Uploading yaml and CSV Logs to wandb"
   ]
  },
  {
   "cell_type": "code",
   "execution_count": 8,
   "metadata": {},
   "outputs": [],
   "source": [
    "import wandb as wandb\n",
    "\n",
    "\n",
    "import pandas as pd\n",
    "import os\n",
    "import yaml\n",
    "\n",
    "# Load your CSV log and yaml config file\n",
    "\n",
    "\n",
    "yaml_path = \"/media/backup_16TB/sean/VJEPA/jepa/configs/evals_a6000/pretrain_maskfix_tiny/tiny_AD_binclass_slice48_mp4/vitl16_brainslice48_ADbinclassifier_lr_half_fix14.yaml\"\n",
    "with open(yaml_path, 'r') as f:\n",
    "    config = yaml.safe_load(f)\n",
    "\n",
    "csv_path = os.path.join(config['pretrain']['folder'],config['eval_name'],config['tag'],f\"{config['pretrain']['write_tag']}_r0.csv\")\n",
    "if os.path.exists(csv_path):\n",
    "    df = pd.read_csv(csv_path)\n",
    "else:\n",
    "    print(\"error\")\n",
    "    print(csv_path)\n",
    "\n"
   ]
  },
  {
   "cell_type": "code",
   "execution_count": 9,
   "metadata": {},
   "outputs": [
    {
     "data": {
      "text/plain": [
       "{'project': 'voxel-jepa-ad-bin',\n",
       " 'run_name': 'ADbinclassifier_vittiny_maskfix14'}"
      ]
     },
     "execution_count": 9,
     "metadata": {},
     "output_type": "execute_result"
    }
   ],
   "source": [
    "config['logging']\n",
    "config['logging']['project'] = 'voxel-jepa-ad-bin'\n",
    "config['logging']"
   ]
  },
  {
   "cell_type": "code",
   "execution_count": 7,
   "metadata": {},
   "outputs": [
    {
     "data": {
      "text/html": [
       "Tracking run with wandb version 0.19.11"
      ],
      "text/plain": [
       "<IPython.core.display.HTML object>"
      ]
     },
     "metadata": {},
     "output_type": "display_data"
    },
    {
     "data": {
      "text/html": [
       "Run data is saved locally in <code>/media/backup_16TB/sean/VJEPA/jepa/wandb/run-20250721_150940-oahiianq</code>"
      ],
      "text/plain": [
       "<IPython.core.display.HTML object>"
      ]
     },
     "metadata": {},
     "output_type": "display_data"
    },
    {
     "data": {
      "text/html": [
       "Syncing run <strong><a href='https://wandb.ai/voxel-jepa/voxel-jepa-ad-bin/runs/oahiianq' target=\"_blank\">ADbinclassifier_vittiny_rnd</a></strong> to <a href='https://wandb.ai/voxel-jepa/voxel-jepa-ad-bin' target=\"_blank\">Weights & Biases</a> (<a href='https://wandb.me/developer-guide' target=\"_blank\">docs</a>)<br>"
      ],
      "text/plain": [
       "<IPython.core.display.HTML object>"
      ]
     },
     "metadata": {},
     "output_type": "display_data"
    },
    {
     "data": {
      "text/html": [
       " View project at <a href='https://wandb.ai/voxel-jepa/voxel-jepa-ad-bin' target=\"_blank\">https://wandb.ai/voxel-jepa/voxel-jepa-ad-bin</a>"
      ],
      "text/plain": [
       "<IPython.core.display.HTML object>"
      ]
     },
     "metadata": {},
     "output_type": "display_data"
    },
    {
     "data": {
      "text/html": [
       " View run at <a href='https://wandb.ai/voxel-jepa/voxel-jepa-ad-bin/runs/oahiianq' target=\"_blank\">https://wandb.ai/voxel-jepa/voxel-jepa-ad-bin/runs/oahiianq</a>"
      ],
      "text/plain": [
       "<IPython.core.display.HTML object>"
      ]
     },
     "metadata": {},
     "output_type": "display_data"
    },
    {
     "name": "stderr",
     "output_type": "stream",
     "text": [
      "\u001b[34m\u001b[1mwandb\u001b[0m: \u001b[32m\u001b[41mERROR\u001b[0m The nbformat package was not found. It is required to save notebook history.\n"
     ]
    },
    {
     "data": {
      "text/html": [],
      "text/plain": [
       "<IPython.core.display.HTML object>"
      ]
     },
     "metadata": {},
     "output_type": "display_data"
    },
    {
     "data": {
      "text/html": [
       "<br>    <style><br>        .wandb-row {<br>            display: flex;<br>            flex-direction: row;<br>            flex-wrap: wrap;<br>            justify-content: flex-start;<br>            width: 100%;<br>        }<br>        .wandb-col {<br>            display: flex;<br>            flex-direction: column;<br>            flex-basis: 100%;<br>            flex: 1;<br>            padding: 10px;<br>        }<br>    </style><br><div class=\"wandb-row\"><div class=\"wandb-col\"><h3>Run history:</h3><br/><table class=\"wandb\"><tr><td>acc</td><td>▁▁▄▁▁▇▁▁▄▁▁▁▁▁▆▁▆▂▁▇▁▁▁▄▇▁▅▁▂█▄▅▆▃▅▄▁▁▃▁</td></tr><tr><td>epoch</td><td>▁▁▁▁▁▂▂▂▃▃▃▃▃▃▄▄▄▄▅▅▅▅▅▅▆▆▆▆▆▆▆▆▆▇▇▇▇▇▇█</td></tr><tr><td>loss</td><td>▅▄▂▃▃▄▅▃▅▁▁▄▅▃▅▄▄█▇▂▃▆▃▆▅▄▄█▃▃▄▅▆▄▅▂▅▂▅▆</td></tr></table><br/></div><div class=\"wandb-col\"><h3>Run summary:</h3><br/><table class=\"wandb\"><tr><td>acc</td><td>50.27473</td></tr><tr><td>epoch</td><td>300</td></tr><tr><td>loss</td><td>51.68068</td></tr></table><br/></div></div>"
      ],
      "text/plain": [
       "<IPython.core.display.HTML object>"
      ]
     },
     "metadata": {},
     "output_type": "display_data"
    },
    {
     "data": {
      "text/html": [
       " View run <strong style=\"color:#cdcd00\">ADbinclassifier_vittiny_rnd</strong> at: <a href='https://wandb.ai/voxel-jepa/voxel-jepa-ad-bin/runs/oahiianq' target=\"_blank\">https://wandb.ai/voxel-jepa/voxel-jepa-ad-bin/runs/oahiianq</a><br> View project at: <a href='https://wandb.ai/voxel-jepa/voxel-jepa-ad-bin' target=\"_blank\">https://wandb.ai/voxel-jepa/voxel-jepa-ad-bin</a><br>Synced 5 W&B file(s), 0 media file(s), 0 artifact file(s) and 0 other file(s)"
      ],
      "text/plain": [
       "<IPython.core.display.HTML object>"
      ]
     },
     "metadata": {},
     "output_type": "display_data"
    },
    {
     "data": {
      "text/html": [
       "Find logs at: <code>./wandb/run-20250721_150940-oahiianq/logs</code>"
      ],
      "text/plain": [
       "<IPython.core.display.HTML object>"
      ]
     },
     "metadata": {},
     "output_type": "display_data"
    }
   ],
   "source": [
    "# Start or resume a W&B run\n",
    "wandb.init(\n",
    "    entity=\"voxel-jepa\", # Organization or username\n",
    "    project=config['logging']['project'], # Project name\n",
    "    name=config['logging']['run_name'], # Replace with your run name for each run of the project\n",
    "    config=config, # yaml config file\n",
    "    mode=\"online\",  # Run in offline mode or direct online upload \n",
    "    resume=\"allow\") # \"allow\" to resume the run, \"must\" to force resume, or None to start a new run\n",
    "\n",
    "# Log each row of the csv dataframe to W&B\n",
    "for _, row in df.iterrows():\n",
    "    wandb.log(row.to_dict())\n",
    "\n",
    "wandb.finish()"
   ]
  }
 ],
 "metadata": {
  "kernelspec": {
   "display_name": "jepa",
   "language": "python",
   "name": "python3"
  },
  "language_info": {
   "codemirror_mode": {
    "name": "ipython",
    "version": 3
   },
   "file_extension": ".py",
   "mimetype": "text/x-python",
   "name": "python",
   "nbconvert_exporter": "python",
   "pygments_lexer": "ipython3",
   "version": "3.9.21"
  }
 },
 "nbformat": 4,
 "nbformat_minor": 2
}
